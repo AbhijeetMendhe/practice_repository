{
 "cells": [
  {
   "cell_type": "markdown",
   "id": "2b8f46c8",
   "metadata": {},
   "source": [
    "## 2. star(*)"
   ]
  },
  {
   "cell_type": "code",
   "execution_count": 1,
   "id": "65e4b766",
   "metadata": {},
   "outputs": [
    {
     "ename": "SyntaxError",
     "evalue": "invalid syntax (950944272.py, line 1)",
     "output_type": "error",
     "traceback": [
      "\u001b[1;36m  Cell \u001b[1;32mIn [1], line 1\u001b[1;36m\u001b[0m\n\u001b[1;33m    * >> zero or more occurrence\u001b[0m\n\u001b[1;37m      ^\u001b[0m\n\u001b[1;31mSyntaxError\u001b[0m\u001b[1;31m:\u001b[0m invalid syntax\n"
     ]
    }
   ],
   "source": [
    "* >> zero or more occurrence"
   ]
  },
  {
   "cell_type": "code",
   "execution_count": 2,
   "id": "1b969920",
   "metadata": {},
   "outputs": [],
   "source": [
    "import re"
   ]
  },
  {
   "cell_type": "code",
   "execution_count": 3,
   "id": "eb84bf8b",
   "metadata": {},
   "outputs": [
    {
     "name": "stdout",
     "output_type": "stream",
     "text": [
      "['pyt', 'pyt', 'pyt', 'pyt', 'pyt'] 5\n"
     ]
    }
   ],
   "source": [
    "text = 'python and data science pyttttthon  pythhhhon python pyhon pythonnnnn'\n",
    "result = re.findall('pyt', text)\n",
    "print(result, len(result))"
   ]
  },
  {
   "cell_type": "code",
   "execution_count": 4,
   "id": "10d86f1c",
   "metadata": {},
   "outputs": [
    {
     "name": "stdout",
     "output_type": "stream",
     "text": [
      "['pyt', 'pyttttt', 'pyt', 'pyt', 'pyt'] 5\n"
     ]
    }
   ],
   "source": [
    "text = 'python and data science pyttttthon  pythhhhon python pyhon pythonnnnn'\n",
    "result = re.findall('pyt+', text)\n",
    "print(result, len(result))"
   ]
  },
  {
   "cell_type": "code",
   "execution_count": 5,
   "id": "547589d4",
   "metadata": {},
   "outputs": [
    {
     "name": "stdout",
     "output_type": "stream",
     "text": [
      "['pyt', 'pyttttt', 'pyt', 'pyt', 'py', 'pyt'] 6\n"
     ]
    }
   ],
   "source": [
    "text = 'python and data science pyttttthon  pythhhhon python pyhon pythonnnnn'\n",
    "result = re.findall('pyt*', text)\n",
    "print(result, len(result))"
   ]
  },
  {
   "cell_type": "code",
   "execution_count": 6,
   "id": "ba272065",
   "metadata": {},
   "outputs": [
    {
     "name": "stdout",
     "output_type": "stream",
     "text": [
      "['python', 'pyttttthon', 'python', 'pyhon', 'python'] 5\n"
     ]
    }
   ],
   "source": [
    "text = 'python and data science pyttttthon  pythhhhon python pyhon pythonnnnn'\n",
    "result = re.findall('pyt*hon', text)\n",
    "print(result, len(result))"
   ]
  },
  {
   "cell_type": "code",
   "execution_count": 8,
   "id": "c353c356",
   "metadata": {},
   "outputs": [
    {
     "name": "stdout",
     "output_type": "stream",
     "text": [
      "['python', 'pyttttthon', 'pythhhhon', 'pyhon', 'python'] 5\n"
     ]
    }
   ],
   "source": [
    "text = 'python and data science pyttttthon  pythhhhon pyton pyhon pythonnnnn'\n",
    "result = re.findall('pyt*h+on', text)\n",
    "print(result, len(result))"
   ]
  },
  {
   "cell_type": "code",
   "execution_count": 9,
   "id": "f7a3c6ec",
   "metadata": {},
   "outputs": [
    {
     "name": "stdout",
     "output_type": "stream",
     "text": [
      "['python', 'pyttttthon', 'pythhhhon', 'pyton', 'pyhon', 'python'] 6\n"
     ]
    }
   ],
   "source": [
    "text = 'python and data science pyttttthon  pythhhhon pyton pyhon pythonnnnn'\n",
    "result = re.findall('pyt*h*on', text)\n",
    "print(result, len(result))"
   ]
  },
  {
   "cell_type": "code",
   "execution_count": 10,
   "id": "34451d09",
   "metadata": {},
   "outputs": [
    {
     "name": "stdout",
     "output_type": "stream",
     "text": [
      "['python', 'pyttttthon', 'pythhhhon', 'pyton', 'pyhon', 'pythonnnnn'] 6\n"
     ]
    }
   ],
   "source": [
    "text = 'python and data science pyttttthon  pythhhhon pyton pyhon pythonnnnn'\n",
    "result = re.findall('pyt*h*on*', text)\n",
    "print(result, len(result))"
   ]
  },
  {
   "cell_type": "code",
   "execution_count": 11,
   "id": "fbb2d584",
   "metadata": {},
   "outputs": [
    {
     "name": "stdout",
     "output_type": "stream",
     "text": [
      "['98745', '12345'] 2\n"
     ]
    }
   ],
   "source": [
    "text = 'python and data science pyttttthon  pythhhhon pyton 98745abcfr 12345 pyhon pythonnnnn'\n",
    "result = re.findall('[0-9]{5}', text)\n",
    "print(result, len(result))"
   ]
  },
  {
   "cell_type": "code",
   "execution_count": 12,
   "id": "4660ad90",
   "metadata": {},
   "outputs": [
    {
     "name": "stdout",
     "output_type": "stream",
     "text": [
      "['98745abcde'] 1\n"
     ]
    }
   ],
   "source": [
    "text = 'python and data science pyttttthon  pythhhhon pyton 98745abcde 12345 pyhon pythonnnnn'\n",
    "result = re.findall('[0-9]{5}[a-z]{5}', text)\n",
    "print(result, len(result))"
   ]
  },
  {
   "cell_type": "code",
   "execution_count": 14,
   "id": "94648d0a",
   "metadata": {},
   "outputs": [
    {
     "name": "stdout",
     "output_type": "stream",
     "text": [
      "['98745abcde'] 1\n"
     ]
    }
   ],
   "source": [
    "text = 'python and data science pyttttthon  pythhhhon pyton 98745abcde 12345 pyhon pythonnnnn'\n",
    "result = re.findall('[0-9]{5}[a-z]+', text)\n",
    "print(result, len(result))"
   ]
  },
  {
   "cell_type": "code",
   "execution_count": 15,
   "id": "e0611320",
   "metadata": {},
   "outputs": [
    {
     "name": "stdout",
     "output_type": "stream",
     "text": [
      "['98745abcde', '12345'] 2\n"
     ]
    }
   ],
   "source": [
    "text = 'python and data science pyttttthon  pythhhhon pyton 98745abcde 12345 pyhon pythonnnnn'\n",
    "result = re.findall('[0-9]{5}[a-z]*', text)\n",
    "print(result, len(result))"
   ]
  },
  {
   "cell_type": "code",
   "execution_count": 16,
   "id": "3ee5b048",
   "metadata": {},
   "outputs": [
    {
     "name": "stdout",
     "output_type": "stream",
     "text": [
      "['bat', 'bat'] 2\n"
     ]
    }
   ],
   "source": [
    "text = 'batman and batwoman'\n",
    "result = re.findall('bat', text)\n",
    "print(result, len(result))"
   ]
  },
  {
   "cell_type": "code",
   "execution_count": 17,
   "id": "ba2d002a",
   "metadata": {},
   "outputs": [
    {
     "name": "stdout",
     "output_type": "stream",
     "text": [
      "['bat', 'bat'] 2\n"
     ]
    }
   ],
   "source": [
    "text = 'batman and batwoman'\n",
    "result = re.findall('bat+', text)\n",
    "print(result, len(result))"
   ]
  },
  {
   "cell_type": "code",
   "execution_count": 18,
   "id": "c0f4557d",
   "metadata": {},
   "outputs": [
    {
     "name": "stdout",
     "output_type": "stream",
     "text": [
      "['bat', 'bat'] 2\n"
     ]
    }
   ],
   "source": [
    "text = 'batman and batwoman'\n",
    "result = re.findall('bat*', text)\n",
    "print(result, len(result))"
   ]
  },
  {
   "cell_type": "code",
   "execution_count": 19,
   "id": "52d0768f",
   "metadata": {},
   "outputs": [
    {
     "name": "stdout",
     "output_type": "stream",
     "text": [
      "['batman'] 1\n"
     ]
    }
   ],
   "source": [
    "text = 'batman and batwoman'\n",
    "result = re.findall('batman', text)\n",
    "print(result, len(result))"
   ]
  },
  {
   "cell_type": "code",
   "execution_count": 21,
   "id": "1ad557e2",
   "metadata": {},
   "outputs": [
    {
     "name": "stdout",
     "output_type": "stream",
     "text": [
      "['batman', 'batwoman'] 2\n"
     ]
    }
   ],
   "source": [
    "text = 'batman and batwoman'\n",
    "result = re.findall('batw*o*man', text)\n",
    "print(result, len(result))"
   ]
  },
  {
   "cell_type": "code",
   "execution_count": 22,
   "id": "74a95465",
   "metadata": {},
   "outputs": [
    {
     "name": "stdout",
     "output_type": "stream",
     "text": [
      "['batman', 'batwoman', 'batwwwoman', 'batwoooman'] 4\n"
     ]
    }
   ],
   "source": [
    "text = 'batman and batwoman batwwwoman batwoooman'\n",
    "result = re.findall('batw*o*man', text)\n",
    "print(result, len(result))"
   ]
  },
  {
   "cell_type": "code",
   "execution_count": 23,
   "id": "50b03a13",
   "metadata": {},
   "outputs": [
    {
     "name": "stdout",
     "output_type": "stream",
     "text": [
      "['batwoman', 'batwwwoman', 'batwoooman'] 3\n"
     ]
    }
   ],
   "source": [
    "text = 'batman and batwoman batwwwoman batwoooman'\n",
    "result = re.findall('batw+o+man', text)\n",
    "print(result, len(result))"
   ]
  },
  {
   "cell_type": "markdown",
   "id": "7cd42c4a",
   "metadata": {},
   "source": [
    "## 3. dot(.)"
   ]
  },
  {
   "cell_type": "code",
   "execution_count": null,
   "id": "4362f331",
   "metadata": {},
   "outputs": [],
   "source": [
    ". >> any char (except new line >> \\n)"
   ]
  },
  {
   "cell_type": "code",
   "execution_count": 25,
   "id": "e2a980cc",
   "metadata": {},
   "outputs": [
    {
     "name": "stdout",
     "output_type": "stream",
     "text": [
      "['pyth']\n"
     ]
    }
   ],
   "source": [
    "text = 'python and data science'\n",
    "result = re.findall('pyt.',text)\n",
    "print(result)"
   ]
  },
  {
   "cell_type": "code",
   "execution_count": 27,
   "id": "7e3534c0",
   "metadata": {},
   "outputs": [
    {
     "name": "stdout",
     "output_type": "stream",
     "text": [
      "['python ']\n"
     ]
    }
   ],
   "source": [
    "text = 'python and data science'\n",
    "result = re.findall('pyt....',text)\n",
    "print(result)"
   ]
  },
  {
   "cell_type": "code",
   "execution_count": 28,
   "id": "99555fc8",
   "metadata": {},
   "outputs": [
    {
     "name": "stdout",
     "output_type": "stream",
     "text": [
      "['python']\n"
     ]
    }
   ],
   "source": [
    "text = 'python and data science'\n",
    "result = re.findall('pyt..n',text)\n",
    "print(result)"
   ]
  },
  {
   "cell_type": "code",
   "execution_count": 33,
   "id": "8e099095",
   "metadata": {},
   "outputs": [
    {
     "name": "stdout",
     "output_type": "stream",
     "text": [
      "['python', 'python', 'pyt000', 'pytb 9']\n"
     ]
    }
   ],
   "source": [
    "text = '''python and data science pyt\n",
    "hon     python pyt000 pytb 9'''\n",
    "result = re.findall('pyt...',text)\n",
    "print(result)"
   ]
  },
  {
   "cell_type": "code",
   "execution_count": 34,
   "id": "e865931d",
   "metadata": {},
   "outputs": [
    {
     "data": {
      "text/plain": [
       "'python and data science pyt\\nhon     python pyt000 pytb 9'"
      ]
     },
     "execution_count": 34,
     "metadata": {},
     "output_type": "execute_result"
    }
   ],
   "source": [
    "text"
   ]
  },
  {
   "cell_type": "code",
   "execution_count": 35,
   "id": "111f73bb",
   "metadata": {},
   "outputs": [
    {
     "name": "stdout",
     "output_type": "stream",
     "text": [
      "['python']\n"
     ]
    }
   ],
   "source": [
    "text = 'python and data science pythhhhon pyttthon'\n",
    "result = re.findall('py.hon',text)\n",
    "print(result)"
   ]
  },
  {
   "cell_type": "code",
   "execution_count": 36,
   "id": "326de1ed",
   "metadata": {},
   "outputs": [
    {
     "name": "stdout",
     "output_type": "stream",
     "text": [
      "['python', 'pythhhhon']\n"
     ]
    }
   ],
   "source": [
    "text = 'python and data science pythhhhon pyttthon'\n",
    "result = re.findall('py.h+on',text)\n",
    "print(result)"
   ]
  },
  {
   "cell_type": "code",
   "execution_count": 37,
   "id": "eec1cfb0",
   "metadata": {},
   "outputs": [
    {
     "name": "stdout",
     "output_type": "stream",
     "text": [
      "['python and data science pythhhhon pyttthon']\n"
     ]
    }
   ],
   "source": [
    "text = 'python and data science pythhhhon pyttthon'\n",
    "result = re.findall('py.+h+on',text)\n",
    "print(result)"
   ]
  },
  {
   "cell_type": "code",
   "execution_count": 38,
   "id": "81f18372",
   "metadata": {},
   "outputs": [
    {
     "name": "stdout",
     "output_type": "stream",
     "text": [
      "['py']\n"
     ]
    }
   ],
   "source": [
    "text = 'python and data science'\n",
    "result = re.findall('p.',text)\n",
    "print(result)"
   ]
  },
  {
   "cell_type": "code",
   "execution_count": 39,
   "id": "e8d1ea05",
   "metadata": {},
   "outputs": [
    {
     "name": "stdout",
     "output_type": "stream",
     "text": [
      "['python and data science']\n"
     ]
    }
   ],
   "source": [
    "text = 'python and data science'\n",
    "result = re.findall('p.+',text)\n",
    "print(result)"
   ]
  },
  {
   "cell_type": "code",
   "execution_count": 41,
   "id": "44d14996",
   "metadata": {},
   "outputs": [
    {
     "name": "stdout",
     "output_type": "stream",
     "text": [
      "['python and data scienced']\n"
     ]
    }
   ],
   "source": [
    "text = 'python and data scienced'\n",
    "result = re.findall('p.+d',text)\n",
    "print(result)"
   ]
  },
  {
   "cell_type": "code",
   "execution_count": 42,
   "id": "e2320178",
   "metadata": {},
   "outputs": [
    {
     "name": "stdout",
     "output_type": "stream",
     "text": [
      "['python and d']\n"
     ]
    }
   ],
   "source": [
    "text = 'python and data \\n scienced'\n",
    "result = re.findall('p.+d',text)\n",
    "print(result)"
   ]
  },
  {
   "cell_type": "code",
   "execution_count": 44,
   "id": "18e58321",
   "metadata": {},
   "outputs": [
    {
     "data": {
      "text/plain": [
       "['9988774455', '99002211  ', '9978451000', '9977120123']"
      ]
     },
     "execution_count": 44,
     "metadata": {},
     "output_type": "execute_result"
    }
   ],
   "source": [
    "numbers = '''9988774455\n",
    "             8899002211    \n",
    "             9545456585\n",
    "             9978451000\n",
    "             9977120123'''\n",
    "\n",
    "result = re.findall('99........', numbers)\n",
    "result"
   ]
  },
  {
   "cell_type": "code",
   "execution_count": 46,
   "id": "72ec96fb",
   "metadata": {},
   "outputs": [
    {
     "data": {
      "text/plain": [
       "['9978451000', '9977120100']"
      ]
     },
     "execution_count": 46,
     "metadata": {},
     "output_type": "execute_result"
    }
   ],
   "source": [
    "numbers = '''9988774455\n",
    "             8899002211    \n",
    "             9545456585\n",
    "             9978451000\n",
    "             9977120100'''\n",
    "\n",
    "result = re.findall('99......00', numbers)\n",
    "result"
   ]
  },
  {
   "cell_type": "code",
   "execution_count": 47,
   "id": "f1251be8",
   "metadata": {},
   "outputs": [
    {
     "data": {
      "text/plain": [
       "['9900', '9978451000', '9977120100']"
      ]
     },
     "execution_count": 47,
     "metadata": {},
     "output_type": "execute_result"
    }
   ],
   "source": [
    "numbers = '''9988774455\n",
    "             8899002211    \n",
    "             9545456585\n",
    "             9978451000\n",
    "             9977120100'''\n",
    "\n",
    "result = re.findall('99.+0', numbers)\n",
    "result"
   ]
  },
  {
   "cell_type": "markdown",
   "id": "aa3cd0db",
   "metadata": {},
   "source": [
    "## 4. Question Mark (?)"
   ]
  },
  {
   "cell_type": "code",
   "execution_count": null,
   "id": "f126b7ea",
   "metadata": {},
   "outputs": [],
   "source": [
    "? >> It matches exactly zero or more occurrence"
   ]
  },
  {
   "cell_type": "code",
   "execution_count": 49,
   "id": "77639da1",
   "metadata": {},
   "outputs": [
    {
     "name": "stdout",
     "output_type": "stream",
     "text": [
      "['pyt', 'pyt', 'pyt', 'pyt', 'pyt'] 5\n"
     ]
    }
   ],
   "source": [
    "text = 'python and data science pyttttthon  pythhhhon pyton 98745abcde 12345 pyhon pythonnnnn'\n",
    "result = re.findall('pyt', text)\n",
    "print(result, len(result))"
   ]
  },
  {
   "cell_type": "code",
   "execution_count": 50,
   "id": "69e09d67",
   "metadata": {},
   "outputs": [
    {
     "name": "stdout",
     "output_type": "stream",
     "text": [
      "['pyt', 'pyttttt', 'pyt', 'pyt', 'pyt'] 5\n"
     ]
    }
   ],
   "source": [
    "text = 'python and data science pyttttthon  pythhhhon pyton 98745abcde 12345 pyhon pythonnnnn'\n",
    "result = re.findall('pyt+', text)\n",
    "print(result, len(result))"
   ]
  },
  {
   "cell_type": "code",
   "execution_count": 51,
   "id": "c209fc3b",
   "metadata": {},
   "outputs": [
    {
     "name": "stdout",
     "output_type": "stream",
     "text": [
      "['pyt', 'pyttttt', 'pyt', 'pyt', 'py', 'pyt'] 6\n"
     ]
    }
   ],
   "source": [
    "text = 'python and data science pyttttthon  pythhhhon pyton 98745abcde 12345 pyhon pythonnnnn'\n",
    "result = re.findall('pyt*', text)\n",
    "print(result, len(result))"
   ]
  },
  {
   "cell_type": "code",
   "execution_count": 52,
   "id": "434eca55",
   "metadata": {},
   "outputs": [
    {
     "name": "stdout",
     "output_type": "stream",
     "text": [
      "['pyt', 'pyt', 'pyt', 'pyt', 'py', 'pyt'] 6\n"
     ]
    }
   ],
   "source": [
    "text = 'python and data science pyttttthon  pythhhhon pyton 98745abcde 12345 pyhon pythonnnnn'\n",
    "result = re.findall('pyt?', text)\n",
    "print(result, len(result))"
   ]
  },
  {
   "cell_type": "code",
   "execution_count": 53,
   "id": "4031a742",
   "metadata": {},
   "outputs": [
    {
     "name": "stdout",
     "output_type": "stream",
     "text": [
      "['python', 'pyttttthon', 'pythhhhon', 'pyton', 'pyhon', 'python'] 6\n"
     ]
    }
   ],
   "source": [
    "text = 'python and data science pyttttthon  pythhhhon pyton 98745abcde 12345 pyhon pythonnnnn'\n",
    "result = re.findall('pyt*h*on', text)\n",
    "print(result, len(result))"
   ]
  },
  {
   "cell_type": "code",
   "execution_count": 54,
   "id": "93207f17",
   "metadata": {},
   "outputs": [
    {
     "name": "stdout",
     "output_type": "stream",
     "text": [
      "['python', 'pyttttthon', 'pythhhhon', 'python'] 4\n"
     ]
    }
   ],
   "source": [
    "text = 'python and data science pyttttthon  pythhhhon pyton 98745abcde 12345 pyhon pythonnnnn'\n",
    "result = re.findall('pyt+h+on', text)\n",
    "print(result, len(result))"
   ]
  },
  {
   "cell_type": "code",
   "execution_count": 55,
   "id": "dfcb2f5a",
   "metadata": {},
   "outputs": [
    {
     "name": "stdout",
     "output_type": "stream",
     "text": [
      "['python', 'pyton', 'pyhon', 'python'] 4\n"
     ]
    }
   ],
   "source": [
    "text = 'python and data science pyttttthon  pythhhhon pyton 98745abcde 12345 pyhon pythonnnnn'\n",
    "result = re.findall('pyt?h?on', text)\n",
    "print(result, len(result))"
   ]
  },
  {
   "cell_type": "code",
   "execution_count": 56,
   "id": "622e20bd",
   "metadata": {},
   "outputs": [
    {
     "name": "stdout",
     "output_type": "stream",
     "text": [
      "['python', 'pythhhhon', 'pyhon', 'python'] 4\n"
     ]
    }
   ],
   "source": [
    "text = 'python and data science pyttttthon  pythhhhon pyton 98745abcde 12345 pyhon pythonnnnn'\n",
    "result = re.findall('pyt?h+on', text)\n",
    "print(result, len(result))"
   ]
  },
  {
   "cell_type": "code",
   "execution_count": null,
   "id": "76e5a8f1",
   "metadata": {},
   "outputs": [],
   "source": [
    "1. + >> One or More Occurrences\n",
    "2. * >> Zero or More Occurrences\n",
    "3. . >> An char except \\n(new line)\n",
    "4. ? >> exactly Zero or One Occurrence"
   ]
  },
  {
   "cell_type": "markdown",
   "id": "54fab0ce",
   "metadata": {},
   "source": [
    "## 5. Startswith (^)"
   ]
  },
  {
   "cell_type": "code",
   "execution_count": null,
   "id": "89007f66",
   "metadata": {},
   "outputs": [],
   "source": [
    "^ >> startswith  (first index or position)"
   ]
  },
  {
   "cell_type": "code",
   "execution_count": 57,
   "id": "134cc69c",
   "metadata": {},
   "outputs": [
    {
     "data": {
      "text/plain": [
       "True"
      ]
     },
     "execution_count": 57,
     "metadata": {},
     "output_type": "execute_result"
    }
   ],
   "source": [
    "text = 'python and data science pyttttthon  pythhhhon pyton 98745abcde 12345 pyhon pythonnnnn'\n",
    "text.startswith('p')"
   ]
  },
  {
   "cell_type": "code",
   "execution_count": 58,
   "id": "8c3703e1",
   "metadata": {},
   "outputs": [
    {
     "data": {
      "text/plain": [
       "False"
      ]
     },
     "execution_count": 58,
     "metadata": {},
     "output_type": "execute_result"
    }
   ],
   "source": [
    "text = 'python and data science pyttttthon  pythhhhon pyton 98745abcde 12345 pyhon pythonnnnn'\n",
    "text.startswith('P')"
   ]
  },
  {
   "cell_type": "code",
   "execution_count": 59,
   "id": "cccb913e",
   "metadata": {},
   "outputs": [
    {
     "data": {
      "text/plain": [
       "False"
      ]
     },
     "execution_count": 59,
     "metadata": {},
     "output_type": "execute_result"
    }
   ],
   "source": [
    "text = ' python and data science pyttttthon  pythhhhon pyton 98745abcde 12345 pyhon pythonnnnn'\n",
    "text.startswith('p')"
   ]
  },
  {
   "cell_type": "code",
   "execution_count": 61,
   "id": "62206e4c",
   "metadata": {},
   "outputs": [
    {
     "data": {
      "text/plain": [
       "['p']"
      ]
     },
     "execution_count": 61,
     "metadata": {},
     "output_type": "execute_result"
    }
   ],
   "source": [
    "text = 'python and data science pyttttthon  pythhhhon pyton 98745abcde 12345 pyhon pythonnnnn'\n",
    "result = re.findall('^p', text)\n",
    "result"
   ]
  },
  {
   "cell_type": "code",
   "execution_count": 62,
   "id": "186df52c",
   "metadata": {},
   "outputs": [
    {
     "data": {
      "text/plain": [
       "['python']"
      ]
     },
     "execution_count": 62,
     "metadata": {},
     "output_type": "execute_result"
    }
   ],
   "source": [
    "text = 'python and data science pyttttthon  pythhhhon pyton 98745abcde 12345 pyhon pythonnnnn'\n",
    "result = re.findall('^python', text)\n",
    "result"
   ]
  },
  {
   "cell_type": "code",
   "execution_count": 63,
   "id": "3d74a968",
   "metadata": {},
   "outputs": [
    {
     "data": {
      "text/plain": [
       "[]"
      ]
     },
     "execution_count": 63,
     "metadata": {},
     "output_type": "execute_result"
    }
   ],
   "source": [
    "text = 'python and data science pyttttthon  pythhhhon pyton 98745abcde 12345 pyhon pythonnnnn'\n",
    "result = re.findall('^Python', text)\n",
    "result"
   ]
  },
  {
   "cell_type": "code",
   "execution_count": 65,
   "id": "4db5f1b8",
   "metadata": {},
   "outputs": [
    {
     "data": {
      "text/plain": [
       "['pytho']"
      ]
     },
     "execution_count": 65,
     "metadata": {},
     "output_type": "execute_result"
    }
   ],
   "source": [
    "text = 'python and data science pyttttthon  pythhhhon pyton 98745abcde 12345 pyhon pythonnnnn'\n",
    "result = re.findall('^[a-z]{5}', text)\n",
    "result"
   ]
  },
  {
   "cell_type": "code",
   "execution_count": 67,
   "id": "26739957",
   "metadata": {},
   "outputs": [
    {
     "data": {
      "text/plain": [
       "[' ', ' D', ' S', ' ', '  ', ' ', ' 98745', ' 12345 ', ' ']"
      ]
     },
     "execution_count": 67,
     "metadata": {},
     "output_type": "execute_result"
    }
   ],
   "source": [
    "# if we use ^ inside [ ] this brackets it works as except\n",
    "text = 'python and Data Science pyttttthon  pythhhhon pyton 98745abcde 12345 pyhon pythonnnnn'\n",
    "result = re.findall('[^a-z]+', text)\n",
    "result"
   ]
  },
  {
   "cell_type": "code",
   "execution_count": 69,
   "id": "7ec50a5d",
   "metadata": {},
   "outputs": [
    {
     "data": {
      "text/plain": [
       "[' ', ' ', ' fghjk']"
      ]
     },
     "execution_count": 69,
     "metadata": {},
     "output_type": "execute_result"
    }
   ],
   "source": [
    "num = '12345 456 786 fghjk'\n",
    "result = re.findall('[^0-9]+', num)\n",
    "result"
   ]
  },
  {
   "cell_type": "code",
   "execution_count": 70,
   "id": "fea2cb0d",
   "metadata": {},
   "outputs": [
    {
     "data": {
      "text/plain": [
       "['12345']"
      ]
     },
     "execution_count": 70,
     "metadata": {},
     "output_type": "execute_result"
    }
   ],
   "source": [
    "# if we use ^ outside [ ] this brackets it works as startswith\n",
    "num = '12345 456 786 fghjk'\n",
    "result = re.findall('^[0-9]+', num)\n",
    "result"
   ]
  },
  {
   "cell_type": "code",
   "execution_count": 71,
   "id": "ae155435",
   "metadata": {},
   "outputs": [
    {
     "data": {
      "text/plain": [
       "['1234']"
      ]
     },
     "execution_count": 71,
     "metadata": {},
     "output_type": "execute_result"
    }
   ],
   "source": [
    "# if we use ^ outside [ ] this brackets it works as startswith\n",
    "num = '12345 456 786 fghjk'\n",
    "result = re.findall('^[0-9]{4}', num)\n",
    "result"
   ]
  },
  {
   "cell_type": "code",
   "execution_count": 72,
   "id": "114917d0",
   "metadata": {},
   "outputs": [
    {
     "data": {
      "text/plain": [
       "[]"
      ]
     },
     "execution_count": 72,
     "metadata": {},
     "output_type": "execute_result"
    }
   ],
   "source": [
    "# if we use ^ outside [ ] this brackets it works as startswith\n",
    "num = ' 12345 456 786 fghjk'\n",
    "result = re.findall('^[0-9]{4}', num)\n",
    "result"
   ]
  },
  {
   "cell_type": "code",
   "execution_count": 73,
   "id": "55715352",
   "metadata": {},
   "outputs": [
    {
     "data": {
      "text/plain": [
       "[' ']"
      ]
     },
     "execution_count": 73,
     "metadata": {},
     "output_type": "execute_result"
    }
   ],
   "source": [
    "# if we use ^ outside [ ] this brackets it works as startswith\n",
    "num = ' 12345 456 786 fghjk'\n",
    "result = re.findall('^\\s', num)\n",
    "result"
   ]
  },
  {
   "cell_type": "code",
   "execution_count": 74,
   "id": "8493a9bb",
   "metadata": {},
   "outputs": [
    {
     "data": {
      "text/plain": [
       "['1']"
      ]
     },
     "execution_count": 74,
     "metadata": {},
     "output_type": "execute_result"
    }
   ],
   "source": [
    "# if we use ^ outside [ ] this brackets it works as startswith\n",
    "num = '12345 456 786 fghjk'\n",
    "result = re.findall('^\\d', num)\n",
    "result"
   ]
  },
  {
   "cell_type": "markdown",
   "id": "d428647d",
   "metadata": {},
   "source": [
    "## 6. endswith ($)"
   ]
  },
  {
   "cell_type": "code",
   "execution_count": null,
   "id": "38c07815",
   "metadata": {},
   "outputs": [],
   "source": [
    "$ >> endswith"
   ]
  },
  {
   "cell_type": "code",
   "execution_count": 75,
   "id": "86b09004",
   "metadata": {},
   "outputs": [
    {
     "data": {
      "text/plain": [
       "[]"
      ]
     },
     "execution_count": 75,
     "metadata": {},
     "output_type": "execute_result"
    }
   ],
   "source": [
    "text = 'data science and machine learning'\n",
    "result = re.findall('and$', text)\n",
    "result"
   ]
  },
  {
   "cell_type": "code",
   "execution_count": 76,
   "id": "4a895302",
   "metadata": {},
   "outputs": [
    {
     "data": {
      "text/plain": [
       "['learning']"
      ]
     },
     "execution_count": 76,
     "metadata": {},
     "output_type": "execute_result"
    }
   ],
   "source": [
    "text = 'data science and machine learning'\n",
    "result = re.findall('learning$', text)\n",
    "result"
   ]
  },
  {
   "cell_type": "code",
   "execution_count": 77,
   "id": "62e7fea1",
   "metadata": {},
   "outputs": [
    {
     "data": {
      "text/plain": [
       "[]"
      ]
     },
     "execution_count": 77,
     "metadata": {},
     "output_type": "execute_result"
    }
   ],
   "source": [
    "text = 'data science and machine learning '\n",
    "result = re.findall('learning$', text)\n",
    "result"
   ]
  },
  {
   "cell_type": "code",
   "execution_count": 78,
   "id": "1c10f258",
   "metadata": {},
   "outputs": [
    {
     "data": {
      "text/plain": [
       "[' ']"
      ]
     },
     "execution_count": 78,
     "metadata": {},
     "output_type": "execute_result"
    }
   ],
   "source": [
    "text = 'data science and machine learning '\n",
    "result = re.findall('\\s$', text)\n",
    "result"
   ]
  },
  {
   "cell_type": "code",
   "execution_count": 79,
   "id": "0557ae67",
   "metadata": {},
   "outputs": [
    {
     "data": {
      "text/plain": [
       "['g']"
      ]
     },
     "execution_count": 79,
     "metadata": {},
     "output_type": "execute_result"
    }
   ],
   "source": [
    "text = 'data science and machine learning'\n",
    "result = re.findall('[a-z]$', text)\n",
    "result"
   ]
  },
  {
   "cell_type": "code",
   "execution_count": 80,
   "id": "9846358b",
   "metadata": {},
   "outputs": [
    {
     "data": {
      "text/plain": [
       "['learning']"
      ]
     },
     "execution_count": 80,
     "metadata": {},
     "output_type": "execute_result"
    }
   ],
   "source": [
    "text = 'data science and machine learning'\n",
    "result = re.findall('[a-z]+$', text)\n",
    "result"
   ]
  },
  {
   "cell_type": "code",
   "execution_count": 81,
   "id": "84a87052",
   "metadata": {},
   "outputs": [
    {
     "data": {
      "text/plain": [
       "[]"
      ]
     },
     "execution_count": 81,
     "metadata": {},
     "output_type": "execute_result"
    }
   ],
   "source": [
    "text = 'data science and machine learning'\n",
    "result = re.findall('^and$', text)\n",
    "result"
   ]
  },
  {
   "cell_type": "code",
   "execution_count": 84,
   "id": "df6f9b4f",
   "metadata": {},
   "outputs": [
    {
     "data": {
      "text/plain": [
       "['and', 'and', 'and']"
      ]
     },
     "execution_count": 84,
     "metadata": {},
     "output_type": "execute_result"
    }
   ],
   "source": [
    "text = 'data andscience and machineand learning annd'\n",
    "result = re.findall('and', text)\n",
    "result"
   ]
  },
  {
   "cell_type": "code",
   "execution_count": 85,
   "id": "32727054",
   "metadata": {},
   "outputs": [
    {
     "data": {
      "text/plain": [
       "['and']"
      ]
     },
     "execution_count": 85,
     "metadata": {},
     "output_type": "execute_result"
    }
   ],
   "source": [
    "text = 'data andscience and machineand learning annd'\n",
    "result = re.findall(r'\\band\\b', text)\n",
    "result"
   ]
  },
  {
   "cell_type": "markdown",
   "id": "c2ac4d0e",
   "metadata": {},
   "source": [
    "## 7. or (|)"
   ]
  },
  {
   "cell_type": "code",
   "execution_count": 86,
   "id": "207e395f",
   "metadata": {},
   "outputs": [
    {
     "data": {
      "text/plain": [
       "['data']"
      ]
     },
     "execution_count": 86,
     "metadata": {},
     "output_type": "execute_result"
    }
   ],
   "source": [
    "text = 'data science and machine learning'\n",
    "result = re.findall('data',text)\n",
    "result"
   ]
  },
  {
   "cell_type": "code",
   "execution_count": 89,
   "id": "80877464",
   "metadata": {},
   "outputs": [
    {
     "data": {
      "text/plain": [
       "['machine', 'deep']"
      ]
     },
     "execution_count": 89,
     "metadata": {},
     "output_type": "execute_result"
    }
   ],
   "source": [
    "text = 'data science and machine learning, deep learning'\n",
    "result = re.findall('machine|deep',text)\n",
    "result"
   ]
  },
  {
   "cell_type": "code",
   "execution_count": 90,
   "id": "d4cead6d",
   "metadata": {},
   "outputs": [
    {
     "data": {
      "text/plain": [
       "['science', 'machine', 'deep']"
      ]
     },
     "execution_count": 90,
     "metadata": {},
     "output_type": "execute_result"
    }
   ],
   "source": [
    "text = 'data science and machine learning, deep learning'\n",
    "result = re.findall('machine|deep|science',text)\n",
    "result"
   ]
  },
  {
   "cell_type": "code",
   "execution_count": 91,
   "id": "9a524afc",
   "metadata": {},
   "outputs": [
    {
     "data": {
      "text/plain": [
       "['science', 'deep']"
      ]
     },
     "execution_count": 91,
     "metadata": {},
     "output_type": "execute_result"
    }
   ],
   "source": [
    "text = 'data science and deep learning'\n",
    "result = re.findall('machine|deep|science',text)\n",
    "result"
   ]
  },
  {
   "cell_type": "code",
   "execution_count": 92,
   "id": "600dd01e",
   "metadata": {},
   "outputs": [
    {
     "data": {
      "text/plain": [
       "['31-10-2020', '01-11-2022']"
      ]
     },
     "execution_count": 92,
     "metadata": {},
     "output_type": "execute_result"
    }
   ],
   "source": [
    "text = ''' 31-10-2020\n",
    "           01-11-2022\n",
    "           31 Oct 2022\n",
    "           01 Nov 2022'''\n",
    "\n",
    "dates = re.findall('\\d{2}-\\d{2}-\\d{4}',text)\n",
    "dates"
   ]
  },
  {
   "cell_type": "code",
   "execution_count": 93,
   "id": "e11df62c",
   "metadata": {},
   "outputs": [
    {
     "data": {
      "text/plain": [
       "['31 Oct 2022', '01 Nov 2022']"
      ]
     },
     "execution_count": 93,
     "metadata": {},
     "output_type": "execute_result"
    }
   ],
   "source": [
    "text = ''' 31-10-2020\n",
    "           01-11-2022\n",
    "           31 Oct 2022\n",
    "           01 Nov 2022'''\n",
    "\n",
    "dates = re.findall('\\d{2}\\s[A-z]+\\s\\d{4}',text)\n",
    "dates"
   ]
  },
  {
   "cell_type": "code",
   "execution_count": 94,
   "id": "d822b24b",
   "metadata": {},
   "outputs": [
    {
     "data": {
      "text/plain": [
       "['31-10-2020', '01-11-2022', '31 Oct 2022', '01 Nov 2022']"
      ]
     },
     "execution_count": 94,
     "metadata": {},
     "output_type": "execute_result"
    }
   ],
   "source": [
    "text = ''' 31-10-2020\n",
    "           01-11-2022\n",
    "           31 Oct 2022\n",
    "           01 Nov 2022'''\n",
    "\n",
    "dates = re.findall('\\d{2}\\s[A-z]+\\s\\d{4}|\\d{2}-\\d{2}-\\d{4}',text)\n",
    "dates"
   ]
  },
  {
   "cell_type": "markdown",
   "id": "0e146f4c",
   "metadata": {},
   "source": [
    "## 8. [ ] >> pattern or sequence\n",
    "## { } >> repetition"
   ]
  },
  {
   "cell_type": "markdown",
   "id": "e2e59695",
   "metadata": {},
   "source": [
    "## 9.  ( ) >> group of char"
   ]
  },
  {
   "cell_type": "code",
   "execution_count": 95,
   "id": "9818e973",
   "metadata": {},
   "outputs": [
    {
     "data": {
      "text/plain": [
       "['9890551100', '9545848484', '7878541200']"
      ]
     },
     "execution_count": 95,
     "metadata": {},
     "output_type": "execute_result"
    }
   ],
   "source": [
    "numbers = '''Mobile numbers are : +91 9890551100\n",
    "            9545848484 \n",
    "            +91 7878541200 '''\n",
    "result = re.findall('\\d{10}',numbers)\n",
    "result"
   ]
  },
  {
   "cell_type": "code",
   "execution_count": 96,
   "id": "49cba2ea",
   "metadata": {},
   "outputs": [
    {
     "data": {
      "text/plain": [
       "['+91 9890551100', '+91 7878541200']"
      ]
     },
     "execution_count": 96,
     "metadata": {},
     "output_type": "execute_result"
    }
   ],
   "source": [
    "numbers = '''Mobile numbers are : +91 9890551100\n",
    "            9545848484 \n",
    "            +91 7878541200 '''\n",
    "result = re.findall('[+]\\d{2}\\s\\d{10}',numbers)\n",
    "result"
   ]
  },
  {
   "cell_type": "code",
   "execution_count": 145,
   "id": "cbadf127",
   "metadata": {},
   "outputs": [
    {
     "data": {
      "text/plain": [
       "re.compile(r'([+]\\d{2})?\\d{10}', re.UNICODE)"
      ]
     },
     "execution_count": 145,
     "metadata": {},
     "output_type": "execute_result"
    }
   ],
   "source": [
    "numbers = '''Mobile numbers are : +91 9890551100\n",
    "            9545848484 \n",
    "            +91 7878541200 '''\n",
    "result = re.compile('([+]\\d{2}[ ])?\\d{10}')\n",
    "result"
   ]
  },
  {
   "cell_type": "code",
   "execution_count": 146,
   "id": "9442f9a3",
   "metadata": {},
   "outputs": [
    {
     "data": {
      "text/plain": [
       "['+91', '', '+91']"
      ]
     },
     "execution_count": 146,
     "metadata": {},
     "output_type": "execute_result"
    }
   ],
   "source": [
    "result.findall(numbers)"
   ]
  },
  {
   "cell_type": "markdown",
   "id": "dc4ed37e",
   "metadata": {},
   "source": [
    "## 3. search"
   ]
  },
  {
   "cell_type": "code",
   "execution_count": null,
   "id": "0262fee6",
   "metadata": {},
   "outputs": [],
   "source": [
    "It searches for a match/pattern and returns an object\n",
    "Search for first occurrence only"
   ]
  },
  {
   "cell_type": "code",
   "execution_count": 101,
   "id": "6366d006",
   "metadata": {},
   "outputs": [
    {
     "data": {
      "text/plain": [
       "['9878454512', '7854120000']"
      ]
     },
     "execution_count": 101,
     "metadata": {},
     "output_type": "execute_result"
    }
   ],
   "source": [
    "text = '''MObile  9878454512\n",
    "            7854120000'''\n",
    "mobil_number = re.findall('\\d{10}', text)\n",
    "mobil_number"
   ]
  },
  {
   "cell_type": "code",
   "execution_count": 102,
   "id": "c80d2ec5",
   "metadata": {},
   "outputs": [
    {
     "data": {
      "text/plain": [
       "<re.Match object; span=(8, 18), match='9878454512'>"
      ]
     },
     "execution_count": 102,
     "metadata": {},
     "output_type": "execute_result"
    }
   ],
   "source": [
    "text = '''MObile  9878454512\n",
    "            7854120000'''\n",
    "mobil_number = re.search('\\d{10}', text)\n",
    "mobil_number"
   ]
  },
  {
   "cell_type": "code",
   "execution_count": 103,
   "id": "51b51e9a",
   "metadata": {},
   "outputs": [
    {
     "data": {
      "text/plain": [
       "re.Match"
      ]
     },
     "execution_count": 103,
     "metadata": {},
     "output_type": "execute_result"
    }
   ],
   "source": [
    "type(mobil_number)"
   ]
  },
  {
   "cell_type": "code",
   "execution_count": 104,
   "id": "20f59539",
   "metadata": {},
   "outputs": [
    {
     "data": {
      "text/plain": [
       "'9878454512'"
      ]
     },
     "execution_count": 104,
     "metadata": {},
     "output_type": "execute_result"
    }
   ],
   "source": [
    "text = '''MObile  9878454512\n",
    "            7854120000'''\n",
    "mobil_number = re.search('\\d{10}', text)\n",
    "mobil_number.group()"
   ]
  },
  {
   "cell_type": "code",
   "execution_count": 105,
   "id": "ed807ae7",
   "metadata": {},
   "outputs": [],
   "source": [
    "text = '''MObile  9878454512\n",
    "            7854120000'''\n",
    "mobil_number = re.search('\\d{11}', text)\n",
    "mobil_number"
   ]
  },
  {
   "cell_type": "code",
   "execution_count": 106,
   "id": "ae533f6c",
   "metadata": {},
   "outputs": [
    {
     "name": "stdout",
     "output_type": "stream",
     "text": [
      "None\n"
     ]
    }
   ],
   "source": [
    "print(mobil_number)"
   ]
  },
  {
   "cell_type": "code",
   "execution_count": 107,
   "id": "59429df1",
   "metadata": {},
   "outputs": [],
   "source": [
    "text = '''MObile  9878454512\n",
    "            7854120000'''\n",
    "mobil_number = re.search('\\d{11}', text)\n",
    "if mobil_number:\n",
    "    print(mobil_number.group())"
   ]
  },
  {
   "cell_type": "code",
   "execution_count": 108,
   "id": "a95bfe6d",
   "metadata": {},
   "outputs": [
    {
     "name": "stdout",
     "output_type": "stream",
     "text": [
      "9878454512\n"
     ]
    }
   ],
   "source": [
    "text = '''MObile  9878454512\n",
    "            7854120000'''\n",
    "mobil_number = re.search('\\d{10}', text)\n",
    "if mobil_number: # if there is something in mobil_number object(it is not empty)\n",
    "    print(mobil_number.group())"
   ]
  },
  {
   "cell_type": "code",
   "execution_count": 109,
   "id": "52b8aa7d",
   "metadata": {},
   "outputs": [
    {
     "data": {
      "text/plain": [
       "(8, 18)"
      ]
     },
     "execution_count": 109,
     "metadata": {},
     "output_type": "execute_result"
    }
   ],
   "source": [
    "mobil_number.span()"
   ]
  },
  {
   "cell_type": "code",
   "execution_count": 110,
   "id": "5f45dbf3",
   "metadata": {},
   "outputs": [
    {
     "data": {
      "text/plain": [
       "'9878454512'"
      ]
     },
     "execution_count": 110,
     "metadata": {},
     "output_type": "execute_result"
    }
   ],
   "source": [
    "text[8:18]"
   ]
  },
  {
   "cell_type": "code",
   "execution_count": 111,
   "id": "a411b398",
   "metadata": {},
   "outputs": [
    {
     "data": {
      "text/plain": [
       "8"
      ]
     },
     "execution_count": 111,
     "metadata": {},
     "output_type": "execute_result"
    }
   ],
   "source": [
    "mobil_number.start()"
   ]
  },
  {
   "cell_type": "code",
   "execution_count": 112,
   "id": "2152943c",
   "metadata": {},
   "outputs": [
    {
     "data": {
      "text/plain": [
       "18"
      ]
     },
     "execution_count": 112,
     "metadata": {},
     "output_type": "execute_result"
    }
   ],
   "source": [
    "mobil_number.end()"
   ]
  },
  {
   "cell_type": "code",
   "execution_count": 115,
   "id": "10f21d6f",
   "metadata": {},
   "outputs": [
    {
     "name": "stdout",
     "output_type": "stream",
     "text": [
      "9878454512\n",
      "(8, 18)\n",
      "8\n",
      "18\n"
     ]
    }
   ],
   "source": [
    "text = '''MObile  9878454512\n",
    "            7854120000'''\n",
    "mobil_number = re.search('\\d{10}', text)\n",
    "if mobil_number: # if there is something in mobil_number object(it is not empty)\n",
    "    print(mobil_number.group())\n",
    "    print(mobil_number.span())\n",
    "    print(mobil_number.start())\n",
    "    print(mobil_number.end())"
   ]
  },
  {
   "cell_type": "code",
   "execution_count": 116,
   "id": "d3ee45b0",
   "metadata": {},
   "outputs": [],
   "source": [
    "text = '''MObile  9878454512\n",
    "            7854120000'''\n",
    "mobil_number = re.search('\\d{11}', text)\n",
    "if mobil_number: # if there is something in mobil_number object(it is not empty)\n",
    "    print(mobil_number.group())\n",
    "    print(mobil_number.span())\n",
    "    print(mobil_number.start())\n",
    "    print(mobil_number.end())"
   ]
  },
  {
   "cell_type": "markdown",
   "id": "ee2f31cc",
   "metadata": {},
   "source": [
    "## 4. match"
   ]
  },
  {
   "cell_type": "code",
   "execution_count": null,
   "id": "95b91f6c",
   "metadata": {},
   "outputs": [],
   "source": [
    "Match function searches for a match at the beginning of the string\n",
    "Checks for first index item of string/ first position"
   ]
  },
  {
   "cell_type": "code",
   "execution_count": 117,
   "id": "8d9b7858",
   "metadata": {},
   "outputs": [
    {
     "data": {
      "text/plain": [
       "<re.Match object; span=(0, 4), match='data'>"
      ]
     },
     "execution_count": 117,
     "metadata": {},
     "output_type": "execute_result"
    }
   ],
   "source": [
    "text = 'data science and deep learning'\n",
    "result =re.match('data',text)\n",
    "result"
   ]
  },
  {
   "cell_type": "code",
   "execution_count": 119,
   "id": "1dd3b9a5",
   "metadata": {},
   "outputs": [
    {
     "name": "stdout",
     "output_type": "stream",
     "text": [
      "None\n"
     ]
    }
   ],
   "source": [
    "text = 'data science and deep learning'\n",
    "result =re.match('and',text)\n",
    "print(result)"
   ]
  },
  {
   "cell_type": "code",
   "execution_count": 122,
   "id": "64c0540a",
   "metadata": {},
   "outputs": [
    {
     "name": "stdout",
     "output_type": "stream",
     "text": [
      "data\n",
      "(0, 4)\n",
      "0\n",
      "4\n"
     ]
    }
   ],
   "source": [
    "text = 'data science and deep learning'\n",
    "result =re.match('data',text)\n",
    "if result:\n",
    "    print(result.group())\n",
    "    print(result.span())\n",
    "    print(result.start())\n",
    "    print(result.end())"
   ]
  },
  {
   "cell_type": "code",
   "execution_count": 123,
   "id": "a4db3505",
   "metadata": {},
   "outputs": [
    {
     "name": "stdout",
     "output_type": "stream",
     "text": [
      "machine\n",
      "(0, 7)\n",
      "0\n",
      "7\n"
     ]
    }
   ],
   "source": [
    "text = 'machine learning and data science and deep learning'\n",
    "result =re.match('data|machine|deep',text)\n",
    "if result:\n",
    "    print(result.group())\n",
    "    print(result.span())\n",
    "    print(result.start())\n",
    "    print(result.end())"
   ]
  },
  {
   "cell_type": "code",
   "execution_count": 124,
   "id": "11543251",
   "metadata": {},
   "outputs": [
    {
     "data": {
      "text/plain": [
       "'machine'"
      ]
     },
     "execution_count": 124,
     "metadata": {},
     "output_type": "execute_result"
    }
   ],
   "source": [
    "text[:7]"
   ]
  },
  {
   "cell_type": "code",
   "execution_count": null,
   "id": "1f4ca75b",
   "metadata": {},
   "outputs": [],
   "source": []
  },
  {
   "cell_type": "code",
   "execution_count": null,
   "id": "847a73b5",
   "metadata": {},
   "outputs": [],
   "source": []
  },
  {
   "cell_type": "code",
   "execution_count": null,
   "id": "ec5a86d4",
   "metadata": {},
   "outputs": [],
   "source": [
    "import pandas as pd"
   ]
  },
  {
   "cell_type": "code",
   "execution_count": 125,
   "id": "692a1d46",
   "metadata": {},
   "outputs": [
    {
     "ename": "NameError",
     "evalue": "name 'pd' is not defined",
     "output_type": "error",
     "traceback": [
      "\u001b[1;31m---------------------------------------------------------------------------\u001b[0m",
      "\u001b[1;31mNameError\u001b[0m                                 Traceback (most recent call last)",
      "Input \u001b[1;32mIn [125]\u001b[0m, in \u001b[0;36m<cell line: 1>\u001b[1;34m()\u001b[0m\n\u001b[1;32m----> 1\u001b[0m \u001b[43mpd\u001b[49m\u001b[38;5;241m.\u001b[39mDataFrame()\n",
      "\u001b[1;31mNameError\u001b[0m: name 'pd' is not defined"
     ]
    }
   ],
   "source": [
    "pd.DataFrame()"
   ]
  },
  {
   "cell_type": "code",
   "execution_count": null,
   "id": "03d38d50",
   "metadata": {},
   "outputs": [],
   "source": []
  },
  {
   "cell_type": "code",
   "execution_count": null,
   "id": "53a6a367",
   "metadata": {},
   "outputs": [],
   "source": []
  },
  {
   "cell_type": "code",
   "execution_count": null,
   "id": "652c3b5b",
   "metadata": {},
   "outputs": [],
   "source": []
  },
  {
   "cell_type": "code",
   "execution_count": null,
   "id": "15a05799",
   "metadata": {},
   "outputs": [],
   "source": []
  },
  {
   "cell_type": "code",
   "execution_count": null,
   "id": "8409567b",
   "metadata": {},
   "outputs": [],
   "source": []
  },
  {
   "cell_type": "code",
   "execution_count": null,
   "id": "ecd7c667",
   "metadata": {},
   "outputs": [],
   "source": []
  },
  {
   "cell_type": "code",
   "execution_count": null,
   "id": "981497eb",
   "metadata": {},
   "outputs": [],
   "source": []
  },
  {
   "cell_type": "code",
   "execution_count": null,
   "id": "49fef707",
   "metadata": {},
   "outputs": [],
   "source": []
  },
  {
   "cell_type": "code",
   "execution_count": null,
   "id": "9614f1c4",
   "metadata": {},
   "outputs": [],
   "source": []
  },
  {
   "cell_type": "code",
   "execution_count": null,
   "id": "89a7b31d",
   "metadata": {},
   "outputs": [],
   "source": []
  },
  {
   "cell_type": "code",
   "execution_count": null,
   "id": "c02bac6d",
   "metadata": {},
   "outputs": [],
   "source": []
  },
  {
   "cell_type": "code",
   "execution_count": null,
   "id": "17613948",
   "metadata": {},
   "outputs": [],
   "source": []
  },
  {
   "cell_type": "code",
   "execution_count": null,
   "id": "cfe3f7ad",
   "metadata": {},
   "outputs": [],
   "source": []
  },
  {
   "cell_type": "code",
   "execution_count": null,
   "id": "b88c8c6f",
   "metadata": {},
   "outputs": [],
   "source": []
  },
  {
   "cell_type": "code",
   "execution_count": null,
   "id": "adb9c4f2",
   "metadata": {},
   "outputs": [],
   "source": []
  },
  {
   "cell_type": "code",
   "execution_count": null,
   "id": "83888e1f",
   "metadata": {},
   "outputs": [],
   "source": []
  },
  {
   "cell_type": "code",
   "execution_count": null,
   "id": "2d9fd374",
   "metadata": {},
   "outputs": [],
   "source": []
  },
  {
   "cell_type": "code",
   "execution_count": null,
   "id": "8596837d",
   "metadata": {},
   "outputs": [],
   "source": []
  },
  {
   "cell_type": "code",
   "execution_count": null,
   "id": "fef41a1e",
   "metadata": {},
   "outputs": [],
   "source": []
  },
  {
   "cell_type": "code",
   "execution_count": null,
   "id": "db00da2f",
   "metadata": {},
   "outputs": [],
   "source": []
  },
  {
   "cell_type": "code",
   "execution_count": null,
   "id": "c2f0bf79",
   "metadata": {},
   "outputs": [],
   "source": []
  },
  {
   "cell_type": "code",
   "execution_count": null,
   "id": "b6cf6b04",
   "metadata": {},
   "outputs": [],
   "source": []
  },
  {
   "cell_type": "code",
   "execution_count": null,
   "id": "c99b375d",
   "metadata": {},
   "outputs": [],
   "source": []
  },
  {
   "cell_type": "code",
   "execution_count": null,
   "id": "4986223c",
   "metadata": {},
   "outputs": [],
   "source": []
  },
  {
   "cell_type": "code",
   "execution_count": null,
   "id": "b55aaa80",
   "metadata": {},
   "outputs": [],
   "source": []
  },
  {
   "cell_type": "code",
   "execution_count": null,
   "id": "24e42f75",
   "metadata": {},
   "outputs": [],
   "source": []
  },
  {
   "cell_type": "code",
   "execution_count": null,
   "id": "4f10d4be",
   "metadata": {},
   "outputs": [],
   "source": []
  },
  {
   "cell_type": "code",
   "execution_count": null,
   "id": "ccac11ab",
   "metadata": {},
   "outputs": [],
   "source": []
  },
  {
   "cell_type": "code",
   "execution_count": null,
   "id": "93ebc932",
   "metadata": {},
   "outputs": [],
   "source": []
  },
  {
   "cell_type": "code",
   "execution_count": null,
   "id": "058725b4",
   "metadata": {},
   "outputs": [],
   "source": []
  },
  {
   "cell_type": "code",
   "execution_count": null,
   "id": "6226dcfd",
   "metadata": {},
   "outputs": [],
   "source": []
  },
  {
   "cell_type": "code",
   "execution_count": null,
   "id": "f32e02ba",
   "metadata": {},
   "outputs": [],
   "source": []
  }
 ],
 "metadata": {
  "kernelspec": {
   "display_name": "Python 3.10.7 64-bit",
   "language": "python",
   "name": "python3"
  },
  "language_info": {
   "codemirror_mode": {
    "name": "ipython",
    "version": 3
   },
   "file_extension": ".py",
   "mimetype": "text/x-python",
   "name": "python",
   "nbconvert_exporter": "python",
   "pygments_lexer": "ipython3",
   "version": "3.10.7"
  },
  "vscode": {
   "interpreter": {
    "hash": "213524bb45a1aeaf737b1d8c77d7b8db5d425938d9dffc5f4bc6fe6dd3324700"
   }
  }
 },
 "nbformat": 4,
 "nbformat_minor": 5
}
